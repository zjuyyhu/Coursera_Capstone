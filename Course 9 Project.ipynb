{
 "cells": [
  {
   "cell_type": "markdown",
   "metadata": {},
   "source": [
    "# Capstone Project - Prediction of Car Accident Severity\n",
    "### Applied Data Science Capstone by IBM/Coursera"
   ]
  },
  {
   "cell_type": "markdown",
   "metadata": {},
   "source": [
    "## Table of contents\n",
    "* [Introduction: Business Problem](#introduction)\n",
    "* [Data](#data)\n",
    "* [Methodology](#methodology)\n",
    "* [Analysis](#analysis)\n",
    "* [Results and Discussion](#results)\n",
    "* [Conclusion](#conclusion)"
   ]
  },
  {
   "cell_type": "markdown",
   "metadata": {},
   "source": [
    "## Introduction: Business Problem <a name=\"introduction\"></a>"
   ]
  },
  {
   "cell_type": "markdown",
   "metadata": {},
   "source": [
    "In the modern world, car accidents happen everyday and everywhere. Some accidents involve only minor or major property damages; however, others involve severe injuries or even fatalities. It is very important for all drivers to avoid accidents with high severity. This report aims to extract insights of accident data and predict accident severities based on several factors such as weather, light condition, location and so on.\n",
    "\n",
    "The conclusion of insights will help drivers in the area make a correct judgement on the possibility of a severe accident involving injuries. It will also help drivers make a right decision if they should drive or not or if they should be more careful under certain conditions while driving. The targeted audience will be car drivers and traffic control department which routinely sends out traffic warnings and reminders."
   ]
  },
  {
   "cell_type": "markdown",
   "metadata": {},
   "source": [
    "## Data <a name=\"data\"></a>"
   ]
  },
  {
   "cell_type": "markdown",
   "metadata": {},
   "source": [
    "The datasets used by the report is from Seattle accident data which has 194673 samples with 37 attributes (the labeled 'SEVERITYCODE' has a duplicated column). The prediction will be 'SEVERITYCODE'. On examining the meaning of each feature among the 36 features, about 8 were selected as features for the modeling purpose. These features are 'ROADCOND', 'LIGHTCOND', 'SPEEDING', 'ADDRTYPE' OR 'JUNCTIONTYPE', 'WEATHER', 'COLLISIONTYPE', 'PEDCOUNT', 'INCDTTM'. However, 'INCDTTM' will be translated into 'WEEKEND' and 'TIME'. So there will be 9 features for the model. Based on data visualization and analysis, some features may be dropped later for modeling."
   ]
  },
  {
   "cell_type": "markdown",
   "metadata": {},
   "source": [
    "### Import Data"
   ]
  },
  {
   "cell_type": "code",
   "execution_count": 84,
   "metadata": {},
   "outputs": [],
   "source": [
    "import pandas as pd\n",
    "import numpy as np"
   ]
  },
  {
   "cell_type": "code",
   "execution_count": 85,
   "metadata": {},
   "outputs": [
    {
     "name": "stderr",
     "output_type": "stream",
     "text": [
      "C:\\Users\\yyhu\\anaconda3\\lib\\site-packages\\IPython\\core\\interactiveshell.py:3063: DtypeWarning: Columns (33) have mixed types.Specify dtype option on import or set low_memory=False.\n",
      "  interactivity=interactivity, compiler=compiler, result=result)\n"
     ]
    },
    {
     "data": {
      "text/html": [
       "<div>\n",
       "<style scoped>\n",
       "    .dataframe tbody tr th:only-of-type {\n",
       "        vertical-align: middle;\n",
       "    }\n",
       "\n",
       "    .dataframe tbody tr th {\n",
       "        vertical-align: top;\n",
       "    }\n",
       "\n",
       "    .dataframe thead th {\n",
       "        text-align: right;\n",
       "    }\n",
       "</style>\n",
       "<table border=\"1\" class=\"dataframe\">\n",
       "  <thead>\n",
       "    <tr style=\"text-align: right;\">\n",
       "      <th></th>\n",
       "      <th>SEVERITYCODE</th>\n",
       "      <th>X</th>\n",
       "      <th>Y</th>\n",
       "      <th>OBJECTID</th>\n",
       "      <th>INCKEY</th>\n",
       "      <th>COLDETKEY</th>\n",
       "      <th>REPORTNO</th>\n",
       "      <th>STATUS</th>\n",
       "      <th>ADDRTYPE</th>\n",
       "      <th>INTKEY</th>\n",
       "      <th>...</th>\n",
       "      <th>ROADCOND</th>\n",
       "      <th>LIGHTCOND</th>\n",
       "      <th>PEDROWNOTGRNT</th>\n",
       "      <th>SDOTCOLNUM</th>\n",
       "      <th>SPEEDING</th>\n",
       "      <th>ST_COLCODE</th>\n",
       "      <th>ST_COLDESC</th>\n",
       "      <th>SEGLANEKEY</th>\n",
       "      <th>CROSSWALKKEY</th>\n",
       "      <th>HITPARKEDCAR</th>\n",
       "    </tr>\n",
       "  </thead>\n",
       "  <tbody>\n",
       "    <tr>\n",
       "      <th>0</th>\n",
       "      <td>2</td>\n",
       "      <td>-122.323148</td>\n",
       "      <td>47.703140</td>\n",
       "      <td>1</td>\n",
       "      <td>1307</td>\n",
       "      <td>1307</td>\n",
       "      <td>3502005</td>\n",
       "      <td>Matched</td>\n",
       "      <td>Intersection</td>\n",
       "      <td>37475.0</td>\n",
       "      <td>...</td>\n",
       "      <td>Wet</td>\n",
       "      <td>Daylight</td>\n",
       "      <td>NaN</td>\n",
       "      <td>NaN</td>\n",
       "      <td>NaN</td>\n",
       "      <td>10</td>\n",
       "      <td>Entering at angle</td>\n",
       "      <td>0</td>\n",
       "      <td>0</td>\n",
       "      <td>N</td>\n",
       "    </tr>\n",
       "    <tr>\n",
       "      <th>1</th>\n",
       "      <td>1</td>\n",
       "      <td>-122.347294</td>\n",
       "      <td>47.647172</td>\n",
       "      <td>2</td>\n",
       "      <td>52200</td>\n",
       "      <td>52200</td>\n",
       "      <td>2607959</td>\n",
       "      <td>Matched</td>\n",
       "      <td>Block</td>\n",
       "      <td>NaN</td>\n",
       "      <td>...</td>\n",
       "      <td>Wet</td>\n",
       "      <td>Dark - Street Lights On</td>\n",
       "      <td>NaN</td>\n",
       "      <td>6354039.0</td>\n",
       "      <td>NaN</td>\n",
       "      <td>11</td>\n",
       "      <td>From same direction - both going straight - bo...</td>\n",
       "      <td>0</td>\n",
       "      <td>0</td>\n",
       "      <td>N</td>\n",
       "    </tr>\n",
       "    <tr>\n",
       "      <th>2</th>\n",
       "      <td>1</td>\n",
       "      <td>-122.334540</td>\n",
       "      <td>47.607871</td>\n",
       "      <td>3</td>\n",
       "      <td>26700</td>\n",
       "      <td>26700</td>\n",
       "      <td>1482393</td>\n",
       "      <td>Matched</td>\n",
       "      <td>Block</td>\n",
       "      <td>NaN</td>\n",
       "      <td>...</td>\n",
       "      <td>Dry</td>\n",
       "      <td>Daylight</td>\n",
       "      <td>NaN</td>\n",
       "      <td>4323031.0</td>\n",
       "      <td>NaN</td>\n",
       "      <td>32</td>\n",
       "      <td>One parked--one moving</td>\n",
       "      <td>0</td>\n",
       "      <td>0</td>\n",
       "      <td>N</td>\n",
       "    </tr>\n",
       "    <tr>\n",
       "      <th>3</th>\n",
       "      <td>1</td>\n",
       "      <td>-122.334803</td>\n",
       "      <td>47.604803</td>\n",
       "      <td>4</td>\n",
       "      <td>1144</td>\n",
       "      <td>1144</td>\n",
       "      <td>3503937</td>\n",
       "      <td>Matched</td>\n",
       "      <td>Block</td>\n",
       "      <td>NaN</td>\n",
       "      <td>...</td>\n",
       "      <td>Dry</td>\n",
       "      <td>Daylight</td>\n",
       "      <td>NaN</td>\n",
       "      <td>NaN</td>\n",
       "      <td>NaN</td>\n",
       "      <td>23</td>\n",
       "      <td>From same direction - all others</td>\n",
       "      <td>0</td>\n",
       "      <td>0</td>\n",
       "      <td>N</td>\n",
       "    </tr>\n",
       "    <tr>\n",
       "      <th>4</th>\n",
       "      <td>2</td>\n",
       "      <td>-122.306426</td>\n",
       "      <td>47.545739</td>\n",
       "      <td>5</td>\n",
       "      <td>17700</td>\n",
       "      <td>17700</td>\n",
       "      <td>1807429</td>\n",
       "      <td>Matched</td>\n",
       "      <td>Intersection</td>\n",
       "      <td>34387.0</td>\n",
       "      <td>...</td>\n",
       "      <td>Wet</td>\n",
       "      <td>Daylight</td>\n",
       "      <td>NaN</td>\n",
       "      <td>4028032.0</td>\n",
       "      <td>NaN</td>\n",
       "      <td>10</td>\n",
       "      <td>Entering at angle</td>\n",
       "      <td>0</td>\n",
       "      <td>0</td>\n",
       "      <td>N</td>\n",
       "    </tr>\n",
       "  </tbody>\n",
       "</table>\n",
       "<p>5 rows × 38 columns</p>\n",
       "</div>"
      ],
      "text/plain": [
       "   SEVERITYCODE           X          Y  OBJECTID  INCKEY  COLDETKEY REPORTNO  \\\n",
       "0             2 -122.323148  47.703140         1    1307       1307  3502005   \n",
       "1             1 -122.347294  47.647172         2   52200      52200  2607959   \n",
       "2             1 -122.334540  47.607871         3   26700      26700  1482393   \n",
       "3             1 -122.334803  47.604803         4    1144       1144  3503937   \n",
       "4             2 -122.306426  47.545739         5   17700      17700  1807429   \n",
       "\n",
       "    STATUS      ADDRTYPE   INTKEY  ... ROADCOND                LIGHTCOND  \\\n",
       "0  Matched  Intersection  37475.0  ...      Wet                 Daylight   \n",
       "1  Matched         Block      NaN  ...      Wet  Dark - Street Lights On   \n",
       "2  Matched         Block      NaN  ...      Dry                 Daylight   \n",
       "3  Matched         Block      NaN  ...      Dry                 Daylight   \n",
       "4  Matched  Intersection  34387.0  ...      Wet                 Daylight   \n",
       "\n",
       "  PEDROWNOTGRNT  SDOTCOLNUM SPEEDING ST_COLCODE  \\\n",
       "0           NaN         NaN      NaN         10   \n",
       "1           NaN   6354039.0      NaN         11   \n",
       "2           NaN   4323031.0      NaN         32   \n",
       "3           NaN         NaN      NaN         23   \n",
       "4           NaN   4028032.0      NaN         10   \n",
       "\n",
       "                                          ST_COLDESC  SEGLANEKEY  \\\n",
       "0                                  Entering at angle           0   \n",
       "1  From same direction - both going straight - bo...           0   \n",
       "2                             One parked--one moving           0   \n",
       "3                   From same direction - all others           0   \n",
       "4                                  Entering at angle           0   \n",
       "\n",
       "   CROSSWALKKEY  HITPARKEDCAR  \n",
       "0             0             N  \n",
       "1             0             N  \n",
       "2             0             N  \n",
       "3             0             N  \n",
       "4             0             N  \n",
       "\n",
       "[5 rows x 38 columns]"
      ]
     },
     "execution_count": 85,
     "metadata": {},
     "output_type": "execute_result"
    }
   ],
   "source": [
    "PATH = 'C:/Users/yyhu/Documents/IBM Certificate Study/Course 9/'\n",
    "df = pd.read_csv(PATH + 'Data-Collisions.csv')\n",
    "df.head()"
   ]
  },
  {
   "cell_type": "markdown",
   "metadata": {},
   "source": [
    "### Data Conversion and Visualization"
   ]
  },
  {
   "cell_type": "code",
   "execution_count": 153,
   "metadata": {},
   "outputs": [],
   "source": [
    "df['INCDTTM'] = pd.to_datetime(df['INCDTTM'])\n",
    "df['DAYOFWEEK'] = df['INCDTTM'].dt.dayofweek\n",
    "df['TIMEOFDAY'] = df['INCDTTM'].dt.hour\n",
    "# define time of day: Night, Morning, Afternoon and Evening \n",
    "df['TIMEOFDAY'] = df['TIMEOFDAY'].apply(lambda x: 'NIGHT' if (x<6) else ('MORNING' if (x<12) else ('AFTERNOON' if (x<18) else 'EVENING')))\n"
   ]
  },
  {
   "cell_type": "markdown",
   "metadata": {},
   "source": [
    "Now let us take a look at the accident distributions during the time of day (**Night, Morning, Afternoon and Evening**)"
   ]
  },
  {
   "cell_type": "code",
   "execution_count": 158,
   "metadata": {},
   "outputs": [
    {
     "data": {
      "text/plain": [
       "TIMEOFDAY  SEVERITYCODE\n",
       "AFTERNOON  1               45450\n",
       "           2               21621\n",
       "EVENING    1               26881\n",
       "           2               11576\n",
       "MORNING    1               28797\n",
       "           2               12751\n",
       "NIGHT      1               29705\n",
       "           2               10974\n",
       "Name: SEVERITYCODE, dtype: int64"
      ]
     },
     "execution_count": 158,
     "metadata": {},
     "output_type": "execute_result"
    }
   ],
   "source": [
    "import seaborn as sns\n",
    "import matplotlib as mpl\n",
    "import matplotlib.pyplot as plt\n",
    "%matplotlib inline\n",
    "\n",
    "df.groupby(['TIMEOFDAY'])['SEVERITYCODE'].value_counts(normalize=False)"
   ]
  },
  {
   "cell_type": "code",
   "execution_count": 159,
   "metadata": {},
   "outputs": [
    {
     "data": {
      "text/plain": [
       "TIMEOFDAY  SEVERITYCODE\n",
       "AFTERNOON  1               0.677640\n",
       "           2               0.322360\n",
       "EVENING    1               0.698988\n",
       "           2               0.301012\n",
       "MORNING    1               0.693102\n",
       "           2               0.306898\n",
       "NIGHT      1               0.730229\n",
       "           2               0.269771\n",
       "Name: SEVERITYCODE, dtype: float64"
      ]
     },
     "execution_count": 159,
     "metadata": {},
     "output_type": "execute_result"
    }
   ],
   "source": [
    "df.groupby(['TIMEOFDAY'])['SEVERITYCODE'].value_counts(normalize=True)"
   ]
  },
  {
   "cell_type": "markdown",
   "metadata": {},
   "source": [
    "Obviously, the number of accidents and their severities vary over the time of day. 'Afternoon' (or a value of 2) has the highest accidents and injuries (32%). It is justified to distinguish the time of day. Now let us take a look at other independent variables.  "
   ]
  },
  {
   "cell_type": "code",
   "execution_count": 89,
   "metadata": {},
   "outputs": [
    {
     "data": {
      "text/plain": [
       "Dry               124510\n",
       "Wet                47474\n",
       "Unknown            15078\n",
       "Ice                 1209\n",
       "Snow/Slush          1004\n",
       "Other                132\n",
       "Standing Water       115\n",
       "Sand/Mud/Dirt         75\n",
       "Oil                   64\n",
       "Name: ROADCOND, dtype: int64"
      ]
     },
     "execution_count": 89,
     "metadata": {},
     "output_type": "execute_result"
    }
   ],
   "source": [
    "df['ROADCOND'].isnull().value_counts()\n",
    "df['ROADCOND'].value_counts()"
   ]
  },
  {
   "cell_type": "code",
   "execution_count": 90,
   "metadata": {},
   "outputs": [
    {
     "data": {
      "image/png": "[encoded data removed]",
      "text/plain": [
       "<Figure size 432x216 with 2 Axes>"
      ]
     },
     "metadata": {
      "needs_background": "light"
     },
     "output_type": "display_data"
    }
   ],
   "source": [
    "g = sns.FacetGrid(df, col=\"SEVERITYCODE\", hue=\"SEVERITYCODE\", palette=\"Set1\", col_wrap=2)\n",
    "g.map(plt.hist, 'ROADCOND', ec=\"k\")\n",
    "g.axes[-1].legend()\n",
    "plt.show()"
   ]
  },
  {
   "cell_type": "code",
   "execution_count": 91,
   "metadata": {},
   "outputs": [
    {
     "data": {
      "text/plain": [
       "ROADCOND        SEVERITYCODE\n",
       "Dry             1               0.678227\n",
       "                2               0.321773\n",
       "Ice             1               0.774194\n",
       "                2               0.225806\n",
       "Oil             1               0.625000\n",
       "                2               0.375000\n",
       "Other           1               0.674242\n",
       "                2               0.325758\n",
       "Sand/Mud/Dirt   1               0.693333\n",
       "                2               0.306667\n",
       "Snow/Slush      1               0.833665\n",
       "                2               0.166335\n",
       "Standing Water  1               0.739130\n",
       "                2               0.260870\n",
       "Unknown         1               0.950325\n",
       "                2               0.049675\n",
       "Wet             1               0.668134\n",
       "                2               0.331866\n",
       "Name: SEVERITYCODE, dtype: float64"
      ]
     },
     "execution_count": 91,
     "metadata": {},
     "output_type": "execute_result"
    }
   ],
   "source": [
    "df.groupby(['ROADCOND'])['SEVERITYCODE'].value_counts(normalize=True)"
   ]
  },
  {
   "cell_type": "markdown",
   "metadata": {},
   "source": [
    "It surprisingly shows that road conditions don't affect accident severities a lot even though 'Wet' road has a slightly higher number of Severity 2 accidents (33% vs. 32% in 'Dry'). It is possible that drivers are aware of the wet road and drive more carefully."
   ]
  },
  {
   "cell_type": "code",
   "execution_count": 92,
   "metadata": {},
   "outputs": [
    {
     "data": {
      "image/png": "[encoded data removed]",
      "text/plain": [
       "<Figure size 432x216 with 2 Axes>"
      ]
     },
     "metadata": {
      "needs_background": "light"
     },
     "output_type": "display_data"
    }
   ],
   "source": [
    "g = sns.FacetGrid(df, col=\"SEVERITYCODE\", hue=\"SEVERITYCODE\", palette=\"Set1\", col_wrap=2)\n",
    "g.map(plt.hist, 'WEATHER', ec=\"k\")\n",
    "g.axes[-1].legend()\n",
    "plt.show()"
   ]
  },
  {
   "cell_type": "code",
   "execution_count": 93,
   "metadata": {},
   "outputs": [
    {
     "data": {
      "text/plain": [
       "WEATHER                   SEVERITYCODE\n",
       "Blowing Sand/Dirt         1               0.732143\n",
       "                          2               0.267857\n",
       "Clear                     1               0.677509\n",
       "                          2               0.322491\n",
       "Fog/Smog/Smoke            1               0.671353\n",
       "                          2               0.328647\n",
       "Other                     1               0.860577\n",
       "                          2               0.139423\n",
       "Overcast                  1               0.684456\n",
       "                          2               0.315544\n",
       "Partly Cloudy             2               0.600000\n",
       "                          1               0.400000\n",
       "Raining                   1               0.662815\n",
       "                          2               0.337185\n",
       "Severe Crosswind          1               0.720000\n",
       "                          2               0.280000\n",
       "Sleet/Hail/Freezing Rain  1               0.752212\n",
       "                          2               0.247788\n",
       "Snowing                   1               0.811466\n",
       "                          2               0.188534\n",
       "Unknown                   1               0.945928\n",
       "                          2               0.054072\n",
       "Name: SEVERITYCODE, dtype: float64"
      ]
     },
     "execution_count": 93,
     "metadata": {},
     "output_type": "execute_result"
    }
   ],
   "source": [
    "df.groupby(['WEATHER'])['SEVERITYCODE'].value_counts(normalize=True)"
   ]
  },
  {
   "cell_type": "markdown",
   "metadata": {},
   "source": [
    "Again weather conditions don't affect accident severities a lot even though 'Raining' road has a slightly higher number of Severity 2 accidents (33.7% vs. 32.2% in 'Dry'). It is possible that drivers are aware of the bad weather and drive more carefully. Also the 'road condition' is highly correlated with 'weather condition)."
   ]
  },
  {
   "cell_type": "code",
   "execution_count": 94,
   "metadata": {},
   "outputs": [
    {
     "data": {
      "image/png": "[encoded data removed]",
      "text/plain": [
       "<Figure size 432x216 with 2 Axes>"
      ]
     },
     "metadata": {
      "needs_background": "light"
     },
     "output_type": "display_data"
    }
   ],
   "source": [
    "g = sns.FacetGrid(df, col=\"SEVERITYCODE\", hue=\"SEVERITYCODE\", palette=\"Set1\", col_wrap=2)\n",
    "g.map(plt.hist, 'LIGHTCOND', ec=\"k\")\n",
    "g.axes[-1].legend()\n",
    "plt.show()"
   ]
  },
  {
   "cell_type": "code",
   "execution_count": 125,
   "metadata": {},
   "outputs": [
    {
     "data": {
      "text/plain": [
       "LIGHTCOND                 SEVERITYCODE\n",
       "Dark - No Street Lights   1               0.782694\n",
       "                          2               0.217306\n",
       "Dark - Street Lights Off  1               0.736447\n",
       "                          2               0.263553\n",
       "Dark - Street Lights On   1               0.701589\n",
       "                          2               0.298411\n",
       "Dark - Unknown Lighting   1               0.636364\n",
       "                          2               0.363636\n",
       "Dawn                      1               0.670663\n",
       "                          2               0.329337\n",
       "Daylight                  1               0.668116\n",
       "                          2               0.331884\n",
       "Dusk                      1               0.670620\n",
       "                          2               0.329380\n",
       "Other                     1               0.778723\n",
       "                          2               0.221277\n",
       "Unknown                   1               0.955095\n",
       "                          2               0.044905\n",
       "Name: SEVERITYCODE, dtype: float64"
      ]
     },
     "execution_count": 125,
     "metadata": {},
     "output_type": "execute_result"
    }
   ],
   "source": [
    "df.groupby(['LIGHTCOND'])['SEVERITYCODE'].value_counts(normalize=True)"
   ]
  },
  {
   "cell_type": "markdown",
   "metadata": {},
   "source": [
    "As shown above, the light condition attribute presents some strange results. For 'daylight', the Severity 2 is higher (33% vs 30%) than that of 'dark', which is disturbing. Actually 'light condition' is highly correlated with the day of time attribute."
   ]
  },
  {
   "cell_type": "code",
   "execution_count": 100,
   "metadata": {},
   "outputs": [],
   "source": [
    "df['SPEEDING'] = df['SPEEDING'].apply(lambda x: 1 if (x=='Y') else 0)"
   ]
  },
  {
   "cell_type": "code",
   "execution_count": 101,
   "metadata": {},
   "outputs": [
    {
     "data": {
      "image/png": "[encoded data removed]",
      "text/plain": [
       "<Figure size 432x216 with 2 Axes>"
      ]
     },
     "metadata": {
      "needs_background": "light"
     },
     "output_type": "display_data"
    }
   ],
   "source": [
    "g = sns.FacetGrid(df, col=\"SEVERITYCODE\", hue=\"SEVERITYCODE\", palette=\"Set1\", col_wrap=2)\n",
    "g.map(plt.hist, 'SPEEDING', ec=\"k\")\n",
    "g.axes[-1].legend()\n",
    "plt.show()"
   ]
  },
  {
   "cell_type": "code",
   "execution_count": 103,
   "metadata": {},
   "outputs": [
    {
     "data": {
      "text/plain": [
       "SPEEDING  SEVERITYCODE\n",
       "0         1               0.705099\n",
       "          2               0.294901\n",
       "1         1               0.621665\n",
       "          2               0.378335\n",
       "Name: SEVERITYCODE, dtype: float64"
      ]
     },
     "execution_count": 103,
     "metadata": {},
     "output_type": "execute_result"
    }
   ],
   "source": [
    "df.groupby(['SPEEDING'])['SEVERITYCODE'].value_counts(normalize=True)"
   ]
  },
  {
   "cell_type": "code",
   "execution_count": 288,
   "metadata": {
    "scrolled": true
   },
   "outputs": [
    {
     "data": {
      "image/png": "[encoded data removed]",
      "text/plain": [
       "<Figure size 432x216 with 2 Axes>"
      ]
     },
     "metadata": {
      "needs_background": "light"
     },
     "output_type": "display_data"
    }
   ],
   "source": [
    "g = sns.FacetGrid(df, col=\"SEVERITYCODE\", hue=\"SEVERITYCODE\", palette=\"Set1\", col_wrap=2)\n",
    "g.map(plt.hist, 'VEHCOUNT', ec=\"k\")\n",
    "g.axes[-1].legend()\n",
    "plt.show()"
   ]
  },
  {
   "cell_type": "code",
   "execution_count": 289,
   "metadata": {},
   "outputs": [
    {
     "data": {
      "text/plain": [
       "VEHCOUNT  SEVERITYCODE\n",
       "0         2               0.984694\n",
       "          1               0.015306\n",
       "1         2               0.549341\n",
       "          1               0.450659\n",
       "2         1               0.754532\n",
       "          2               0.245468\n",
       "3         1               0.579674\n",
       "          2               0.420326\n",
       "4         1               0.555969\n",
       "          2               0.444031\n",
       "5         1               0.506616\n",
       "          2               0.493384\n",
       "6         1               0.590278\n",
       "          2               0.409722\n",
       "7         1               0.521739\n",
       "          2               0.478261\n",
       "8         1               0.666667\n",
       "          2               0.333333\n",
       "9         2               0.666667\n",
       "          1               0.333333\n",
       "10        2               1.000000\n",
       "11        1               0.500000\n",
       "          2               0.500000\n",
       "12        1               1.000000\n",
       "Name: SEVERITYCODE, dtype: float64"
      ]
     },
     "execution_count": 289,
     "metadata": {},
     "output_type": "execute_result"
    }
   ],
   "source": [
    "df.groupby(['VEHCOUNT'])['SEVERITYCODE'].value_counts(normalize=True)"
   ]
  },
  {
   "cell_type": "code",
   "execution_count": 104,
   "metadata": {},
   "outputs": [
    {
     "data": {
      "image/png": "[encoded data removed]",
      "text/plain": [
       "<Figure size 432x216 with 2 Axes>"
      ]
     },
     "metadata": {
      "needs_background": "light"
     },
     "output_type": "display_data"
    }
   ],
   "source": [
    "g = sns.FacetGrid(df, col=\"SEVERITYCODE\", hue=\"SEVERITYCODE\", palette=\"Set1\", col_wrap=2)\n",
    "g.map(plt.hist, 'DAYOFWEEK', ec=\"k\")\n",
    "g.axes[-1].legend()\n",
    "plt.show()"
   ]
  },
  {
   "cell_type": "code",
   "execution_count": 105,
   "metadata": {},
   "outputs": [
    {
     "data": {
      "text/plain": [
       "DAYOFWEEK  SEVERITYCODE\n",
       "0          1               0.697281\n",
       "           2               0.302719\n",
       "1          1               0.694250\n",
       "           2               0.305750\n",
       "2          1               0.695705\n",
       "           2               0.304295\n",
       "3          1               0.692470\n",
       "           2               0.307530\n",
       "4          1               0.704358\n",
       "           2               0.295642\n",
       "5          1               0.706196\n",
       "           2               0.293804\n",
       "6          1               0.722022\n",
       "           2               0.277978\n",
       "Name: SEVERITYCODE, dtype: float64"
      ]
     },
     "execution_count": 105,
     "metadata": {},
     "output_type": "execute_result"
    }
   ],
   "source": [
    "df.groupby(['DAYOFWEEK'])['SEVERITYCODE'].value_counts(normalize=True)"
   ]
  },
  {
   "cell_type": "code",
   "execution_count": 107,
   "metadata": {},
   "outputs": [],
   "source": [
    "df['WEEKEND'] = df['DAYOFWEEK'].apply(lambda x: 1 if (x>4)  else 0)"
   ]
  },
  {
   "cell_type": "code",
   "execution_count": 109,
   "metadata": {},
   "outputs": [
    {
     "data": {
      "image/png": "[encoded data removed]",
      "text/plain": [
       "<Figure size 432x216 with 2 Axes>"
      ]
     },
     "metadata": {
      "needs_background": "light"
     },
     "output_type": "display_data"
    }
   ],
   "source": [
    "g = sns.FacetGrid(df, col=\"SEVERITYCODE\", hue=\"SEVERITYCODE\", palette=\"Set1\", col_wrap=2)\n",
    "g.map(plt.hist, 'ADDRTYPE', ec=\"k\")\n",
    "g.axes[-1].legend()\n",
    "plt.show()"
   ]
  },
  {
   "cell_type": "code",
   "execution_count": 115,
   "metadata": {},
   "outputs": [
    {
     "data": {
      "text/plain": [
       "ADDRTYPE      SEVERITYCODE\n",
       "Alley         1               0.890812\n",
       "              2               0.109188\n",
       "Block         1               0.762885\n",
       "              2               0.237115\n",
       "Intersection  1               0.572476\n",
       "              2               0.427524\n",
       "Name: SEVERITYCODE, dtype: float64"
      ]
     },
     "execution_count": 115,
     "metadata": {},
     "output_type": "execute_result"
    }
   ],
   "source": [
    "df.groupby(['ADDRTYPE'])['SEVERITYCODE'].value_counts(normalize=True)"
   ]
  },
  {
   "cell_type": "code",
   "execution_count": 124,
   "metadata": {},
   "outputs": [
    {
     "data": {
      "text/plain": [
       "COLLISIONTYPE  SEVERITYCODE\n",
       "Parked Car     1               45325\n",
       "Angles         1               21050\n",
       "Rear Ended     1               19419\n",
       "Other          1               17591\n",
       "Sideswipe      1               16103\n",
       "Rear Ended     2               14671\n",
       "Angles         2               13624\n",
       "Left Turn      1                8292\n",
       "Other          2                6112\n",
       "Pedestrian     2                5936\n",
       "Left Turn      2                5411\n",
       "Cycles         2                4744\n",
       "Parked Car     2                2662\n",
       "Sideswipe      2                2506\n",
       "Right Turn     1                2347\n",
       "Head On        1                1152\n",
       "               2                 872\n",
       "Pedestrian     1                 672\n",
       "Cycles         1                 671\n",
       "Right Turn     2                 609\n",
       "Name: SEVERITYCODE, dtype: int64"
      ]
     },
     "execution_count": 124,
     "metadata": {},
     "output_type": "execute_result"
    }
   ],
   "source": [
    "df.groupby(['COLLISIONTYPE'])['SEVERITYCODE'].value_counts(normalize=False).sort_values(ascending=False)"
   ]
  },
  {
   "cell_type": "code",
   "execution_count": 122,
   "metadata": {
    "scrolled": true
   },
   "outputs": [
    {
     "data": {
      "text/plain": [
       "COLLISIONTYPE  SEVERITYCODE\n",
       "Parked Car     1               0.944527\n",
       "Pedestrian     2               0.898305\n",
       "Cycles         2               0.876085\n",
       "Sideswipe      1               0.865334\n",
       "Right Turn     1               0.793978\n",
       "Other          1               0.742142\n",
       "Angles         1               0.607083\n",
       "Left Turn      1               0.605123\n",
       "Rear Ended     1               0.569639\n",
       "Head On        1               0.569170\n",
       "               2               0.430830\n",
       "Rear Ended     2               0.430361\n",
       "Left Turn      2               0.394877\n",
       "Angles         2               0.392917\n",
       "Other          2               0.257858\n",
       "Right Turn     2               0.206022\n",
       "Sideswipe      2               0.134666\n",
       "Cycles         1               0.123915\n",
       "Pedestrian     1               0.101695\n",
       "Parked Car     2               0.055473\n",
       "Name: SEVERITYCODE, dtype: float64"
      ]
     },
     "execution_count": 122,
     "metadata": {},
     "output_type": "execute_result"
    }
   ],
   "source": [
    "df.groupby(['COLLISIONTYPE'])['SEVERITYCODE'].value_counts(normalize=True).sort_values(ascending=False)"
   ]
  },
  {
   "cell_type": "markdown",
   "metadata": {},
   "source": [
    "### Feature Selection and Data Cleaning"
   ]
  },
  {
   "cell_type": "markdown",
   "metadata": {},
   "source": [
    "I inspected the correlation of independent variables and found two pairs were highly correlated. They were the weather and road condition pair, time of day and light condition pair. From these highly correlated features, only one was kept, others were dropped from the dataset. After all, eight features were selected. They were **TIMEOFDAY, WEEKEND, SPEEDING, ADDRTYPE, COLLISIONTYPE, WEATHER, PERSONCOUNT and VEHCOUNT**. Next, let us clean up some rows of data with missing information.  "
   ]
  },
  {
   "cell_type": "code",
   "execution_count": 129,
   "metadata": {},
   "outputs": [
    {
     "data": {
      "text/plain": [
       "False    194673\n",
       "Name: TIMEOFDAY, dtype: int64"
      ]
     },
     "execution_count": 129,
     "metadata": {},
     "output_type": "execute_result"
    }
   ],
   "source": [
    "df['TIMEOFDAY'].isnull().value_counts()"
   ]
  },
  {
   "cell_type": "code",
   "execution_count": 130,
   "metadata": {},
   "outputs": [
    {
     "data": {
      "text/plain": [
       "False    194673\n",
       "Name: WEEKEND, dtype: int64"
      ]
     },
     "execution_count": 130,
     "metadata": {},
     "output_type": "execute_result"
    }
   ],
   "source": [
    "df['WEEKEND'].isnull().value_counts()"
   ]
  },
  {
   "cell_type": "code",
   "execution_count": 131,
   "metadata": {},
   "outputs": [
    {
     "data": {
      "text/plain": [
       "False    194673\n",
       "Name: SPEEDING, dtype: int64"
      ]
     },
     "execution_count": 131,
     "metadata": {},
     "output_type": "execute_result"
    }
   ],
   "source": [
    "df['SPEEDING'].isnull().value_counts()"
   ]
  },
  {
   "cell_type": "code",
   "execution_count": 132,
   "metadata": {},
   "outputs": [
    {
     "data": {
      "text/plain": [
       "False    192747\n",
       "True       1926\n",
       "Name: ADDRTYPE, dtype: int64"
      ]
     },
     "execution_count": 132,
     "metadata": {},
     "output_type": "execute_result"
    }
   ],
   "source": [
    "df['ADDRTYPE'].isnull().value_counts()"
   ]
  },
  {
   "cell_type": "code",
   "execution_count": 136,
   "metadata": {},
   "outputs": [],
   "source": [
    "df.dropna(subset=['ADDRTYPE'], axis=0, inplace=True)"
   ]
  },
  {
   "cell_type": "code",
   "execution_count": 138,
   "metadata": {},
   "outputs": [
    {
     "data": {
      "text/plain": [
       "False    187950\n",
       "True       4797\n",
       "Name: COLLISIONTYPE, dtype: int64"
      ]
     },
     "execution_count": 138,
     "metadata": {},
     "output_type": "execute_result"
    }
   ],
   "source": [
    "df['COLLISIONTYPE'].isnull().value_counts()"
   ]
  },
  {
   "cell_type": "code",
   "execution_count": 139,
   "metadata": {},
   "outputs": [],
   "source": [
    "df.dropna(subset=['COLLISIONTYPE'], axis=0, inplace=True)"
   ]
  },
  {
   "cell_type": "code",
   "execution_count": 141,
   "metadata": {},
   "outputs": [
    {
     "data": {
      "text/plain": [
       "False    187755\n",
       "True        195\n",
       "Name: WEATHER, dtype: int64"
      ]
     },
     "execution_count": 141,
     "metadata": {},
     "output_type": "execute_result"
    }
   ],
   "source": [
    "df['WEATHER'].isnull().value_counts()"
   ]
  },
  {
   "cell_type": "code",
   "execution_count": 142,
   "metadata": {},
   "outputs": [],
   "source": [
    "df.dropna(subset=['WEATHER'], axis=0, inplace=True)"
   ]
  },
  {
   "cell_type": "code",
   "execution_count": 249,
   "metadata": {},
   "outputs": [
    {
     "data": {
      "text/plain": [
       "False    187755\n",
       "Name: PERSONCOUNT, dtype: int64"
      ]
     },
     "execution_count": 249,
     "metadata": {},
     "output_type": "execute_result"
    }
   ],
   "source": [
    "df['PERSONCOUNT'].isnull().value_counts()"
   ]
  },
  {
   "cell_type": "code",
   "execution_count": 250,
   "metadata": {},
   "outputs": [
    {
     "data": {
      "text/plain": [
       "False    187755\n",
       "Name: VEHCOUNT, dtype: int64"
      ]
     },
     "execution_count": 250,
     "metadata": {},
     "output_type": "execute_result"
    }
   ],
   "source": [
    "df['VEHCOUNT'].isnull().value_counts()"
   ]
  },
  {
   "cell_type": "code",
   "execution_count": 143,
   "metadata": {},
   "outputs": [
    {
     "data": {
      "text/plain": [
       "(187755, 41)"
      ]
     },
     "execution_count": 143,
     "metadata": {},
     "output_type": "execute_result"
    }
   ],
   "source": [
    "df.shape"
   ]
  },
  {
   "cell_type": "markdown",
   "metadata": {},
   "source": [
    "After dropping some rows with missing data, the total samples are reduced from 194673 to 187755. Now let us convert categorical variables to numeric and add some dummy features, so the dataset can be used for modeling."
   ]
  },
  {
   "cell_type": "code",
   "execution_count": 163,
   "metadata": {},
   "outputs": [],
   "source": [
    "df['WEATHER'] = df['WEATHER'].apply(lambda x: 1 if (x=='Clear') else 0) "
   ]
  },
  {
   "cell_type": "code",
   "execution_count": 251,
   "metadata": {},
   "outputs": [],
   "source": [
    "Feature =df[['WEEKEND','SPEEDING','WEATHER','PERSONCOUNT','VEHCOUNT']]"
   ]
  },
  {
   "cell_type": "code",
   "execution_count": 252,
   "metadata": {},
   "outputs": [],
   "source": [
    "Feature = pd.concat([Feature,pd.get_dummies(df['TIMEOFDAY'])], axis=1)\n",
    "Feature = pd.concat([Feature,pd.get_dummies(df['ADDRTYPE'])], axis=1)\n",
    "Feature = pd.concat([Feature,pd.get_dummies(df['COLLISIONTYPE'])], axis=1)"
   ]
  },
  {
   "cell_type": "code",
   "execution_count": 253,
   "metadata": {},
   "outputs": [
    {
     "data": {
      "text/html": [
       "<div>\n",
       "<style scoped>\n",
       "    .dataframe tbody tr th:only-of-type {\n",
       "        vertical-align: middle;\n",
       "    }\n",
       "\n",
       "    .dataframe tbody tr th {\n",
       "        vertical-align: top;\n",
       "    }\n",
       "\n",
       "    .dataframe thead th {\n",
       "        text-align: right;\n",
       "    }\n",
       "</style>\n",
       "<table border=\"1\" class=\"dataframe\">\n",
       "  <thead>\n",
       "    <tr style=\"text-align: right;\">\n",
       "      <th></th>\n",
       "      <th>WEEKEND</th>\n",
       "      <th>SPEEDING</th>\n",
       "      <th>WEATHER</th>\n",
       "      <th>PERSONCOUNT</th>\n",
       "      <th>VEHCOUNT</th>\n",
       "      <th>AFTERNOON</th>\n",
       "      <th>EVENING</th>\n",
       "      <th>MORNING</th>\n",
       "      <th>NIGHT</th>\n",
       "      <th>Alley</th>\n",
       "      <th>...</th>\n",
       "      <th>Angles</th>\n",
       "      <th>Cycles</th>\n",
       "      <th>Head On</th>\n",
       "      <th>Left Turn</th>\n",
       "      <th>Other</th>\n",
       "      <th>Parked Car</th>\n",
       "      <th>Pedestrian</th>\n",
       "      <th>Rear Ended</th>\n",
       "      <th>Right Turn</th>\n",
       "      <th>Sideswipe</th>\n",
       "    </tr>\n",
       "  </thead>\n",
       "  <tbody>\n",
       "    <tr>\n",
       "      <th>0</th>\n",
       "      <td>0</td>\n",
       "      <td>0</td>\n",
       "      <td>0</td>\n",
       "      <td>2</td>\n",
       "      <td>2</td>\n",
       "      <td>1</td>\n",
       "      <td>0</td>\n",
       "      <td>0</td>\n",
       "      <td>0</td>\n",
       "      <td>0</td>\n",
       "      <td>...</td>\n",
       "      <td>1</td>\n",
       "      <td>0</td>\n",
       "      <td>0</td>\n",
       "      <td>0</td>\n",
       "      <td>0</td>\n",
       "      <td>0</td>\n",
       "      <td>0</td>\n",
       "      <td>0</td>\n",
       "      <td>0</td>\n",
       "      <td>0</td>\n",
       "    </tr>\n",
       "    <tr>\n",
       "      <th>1</th>\n",
       "      <td>0</td>\n",
       "      <td>0</td>\n",
       "      <td>0</td>\n",
       "      <td>2</td>\n",
       "      <td>2</td>\n",
       "      <td>0</td>\n",
       "      <td>1</td>\n",
       "      <td>0</td>\n",
       "      <td>0</td>\n",
       "      <td>0</td>\n",
       "      <td>...</td>\n",
       "      <td>0</td>\n",
       "      <td>0</td>\n",
       "      <td>0</td>\n",
       "      <td>0</td>\n",
       "      <td>0</td>\n",
       "      <td>0</td>\n",
       "      <td>0</td>\n",
       "      <td>0</td>\n",
       "      <td>0</td>\n",
       "      <td>1</td>\n",
       "    </tr>\n",
       "    <tr>\n",
       "      <th>2</th>\n",
       "      <td>0</td>\n",
       "      <td>0</td>\n",
       "      <td>0</td>\n",
       "      <td>4</td>\n",
       "      <td>3</td>\n",
       "      <td>0</td>\n",
       "      <td>0</td>\n",
       "      <td>1</td>\n",
       "      <td>0</td>\n",
       "      <td>0</td>\n",
       "      <td>...</td>\n",
       "      <td>0</td>\n",
       "      <td>0</td>\n",
       "      <td>0</td>\n",
       "      <td>0</td>\n",
       "      <td>0</td>\n",
       "      <td>1</td>\n",
       "      <td>0</td>\n",
       "      <td>0</td>\n",
       "      <td>0</td>\n",
       "      <td>0</td>\n",
       "    </tr>\n",
       "    <tr>\n",
       "      <th>3</th>\n",
       "      <td>0</td>\n",
       "      <td>0</td>\n",
       "      <td>1</td>\n",
       "      <td>3</td>\n",
       "      <td>3</td>\n",
       "      <td>0</td>\n",
       "      <td>0</td>\n",
       "      <td>1</td>\n",
       "      <td>0</td>\n",
       "      <td>0</td>\n",
       "      <td>...</td>\n",
       "      <td>0</td>\n",
       "      <td>0</td>\n",
       "      <td>0</td>\n",
       "      <td>0</td>\n",
       "      <td>1</td>\n",
       "      <td>0</td>\n",
       "      <td>0</td>\n",
       "      <td>0</td>\n",
       "      <td>0</td>\n",
       "      <td>0</td>\n",
       "    </tr>\n",
       "    <tr>\n",
       "      <th>4</th>\n",
       "      <td>0</td>\n",
       "      <td>0</td>\n",
       "      <td>0</td>\n",
       "      <td>2</td>\n",
       "      <td>2</td>\n",
       "      <td>0</td>\n",
       "      <td>0</td>\n",
       "      <td>1</td>\n",
       "      <td>0</td>\n",
       "      <td>0</td>\n",
       "      <td>...</td>\n",
       "      <td>1</td>\n",
       "      <td>0</td>\n",
       "      <td>0</td>\n",
       "      <td>0</td>\n",
       "      <td>0</td>\n",
       "      <td>0</td>\n",
       "      <td>0</td>\n",
       "      <td>0</td>\n",
       "      <td>0</td>\n",
       "      <td>0</td>\n",
       "    </tr>\n",
       "  </tbody>\n",
       "</table>\n",
       "<p>5 rows × 22 columns</p>\n",
       "</div>"
      ],
      "text/plain": [
       "   WEEKEND  SPEEDING  WEATHER  PERSONCOUNT  VEHCOUNT  AFTERNOON  EVENING  \\\n",
       "0        0         0        0            2         2          1        0   \n",
       "1        0         0        0            2         2          0        1   \n",
       "2        0         0        0            4         3          0        0   \n",
       "3        0         0        1            3         3          0        0   \n",
       "4        0         0        0            2         2          0        0   \n",
       "\n",
       "   MORNING  NIGHT  Alley  ...  Angles  Cycles  Head On  Left Turn  Other  \\\n",
       "0        0      0      0  ...       1       0        0          0      0   \n",
       "1        0      0      0  ...       0       0        0          0      0   \n",
       "2        1      0      0  ...       0       0        0          0      0   \n",
       "3        1      0      0  ...       0       0        0          0      1   \n",
       "4        1      0      0  ...       1       0        0          0      0   \n",
       "\n",
       "   Parked Car  Pedestrian  Rear Ended  Right Turn  Sideswipe  \n",
       "0           0           0           0           0          0  \n",
       "1           0           0           0           0          1  \n",
       "2           1           0           0           0          0  \n",
       "3           0           0           0           0          0  \n",
       "4           0           0           0           0          0  \n",
       "\n",
       "[5 rows x 22 columns]"
      ]
     },
     "execution_count": 253,
     "metadata": {},
     "output_type": "execute_result"
    }
   ],
   "source": [
    "Feature.head()"
   ]
  },
  {
   "cell_type": "code",
   "execution_count": 254,
   "metadata": {},
   "outputs": [
    {
     "data": {
      "text/plain": [
       "(187755, 22)"
      ]
     },
     "execution_count": 254,
     "metadata": {},
     "output_type": "execute_result"
    }
   ],
   "source": [
    "Feature.shape"
   ]
  },
  {
   "cell_type": "markdown",
   "metadata": {},
   "source": [
    "### Data Normalization"
   ]
  },
  {
   "cell_type": "code",
   "execution_count": 256,
   "metadata": {},
   "outputs": [
    {
     "data": {
      "text/plain": [
       "array([[-0.59, -0.23, -1.2 , -0.34,  0.05,  1.34, -0.51, -0.53, -0.53,\n",
       "        -0.06, -1.39,  1.4 ,  2.1 , -0.17, -0.1 , -0.28, -0.38, -0.58,\n",
       "        -0.19, -0.47, -0.13, -0.33],\n",
       "       [-0.59, -0.23, -1.2 , -0.34,  0.05, -0.75,  1.97, -0.53, -0.53,\n",
       "        -0.06,  0.72, -0.71, -0.48, -0.17, -0.1 , -0.28, -0.38, -0.58,\n",
       "        -0.19, -0.47, -0.13,  3.03],\n",
       "       [-0.59, -0.23, -1.2 ,  1.13,  1.84, -0.75, -0.51,  1.88, -0.53,\n",
       "        -0.06,  0.72, -0.71, -0.48, -0.17, -0.1 , -0.28, -0.38,  1.74,\n",
       "        -0.19, -0.47, -0.13, -0.33],\n",
       "       [-0.59, -0.23,  0.84,  0.39,  1.84, -0.75, -0.51,  1.88, -0.53,\n",
       "        -0.06,  0.72, -0.71, -0.48, -0.17, -0.1 , -0.28,  2.65, -0.58,\n",
       "        -0.19, -0.47, -0.13, -0.33],\n",
       "       [-0.59, -0.23, -1.2 , -0.34,  0.05, -0.75, -0.51,  1.88, -0.53,\n",
       "        -0.06, -1.39,  1.4 ,  2.1 , -0.17, -0.1 , -0.28, -0.38, -0.58,\n",
       "        -0.19, -0.47, -0.13, -0.33]])"
      ]
     },
     "execution_count": 256,
     "metadata": {},
     "output_type": "execute_result"
    }
   ],
   "source": [
    "from sklearn import preprocessing\n",
    "\n",
    "X = Feature\n",
    "X = preprocessing.StandardScaler().fit(X).transform(X)\n",
    "X[0:5]"
   ]
  },
  {
   "cell_type": "code",
   "execution_count": 257,
   "metadata": {},
   "outputs": [
    {
     "data": {
      "text/plain": [
       "0    1\n",
       "1    0\n",
       "2    0\n",
       "3    0\n",
       "4    1\n",
       "Name: SEVERITYCODE, dtype: int64"
      ]
     },
     "execution_count": 257,
     "metadata": {},
     "output_type": "execute_result"
    }
   ],
   "source": [
    "# Convert the labeled variable to binary values(0 or 1)\n",
    "y = df['SEVERITYCODE'] - 1\n",
    "y.head()"
   ]
  },
  {
   "cell_type": "markdown",
   "metadata": {},
   "source": [
    "## Methodology <a name=\"methodology\"></a>"
   ]
  },
  {
   "cell_type": "markdown",
   "metadata": {},
   "source": [
    "In this project I will direct my efforts on predicting the car accident severities in the Seattle area based on six actual features.\n",
    "\n",
    "In the first step I have collected the required data and completed data cleaning. I have also selected features (based on the meaning of each feature and correlations).\n",
    "\n",
    "In the second step I will select various classification algorithms for machine learning and compare their performances. Also I will complete exploratory data analysis to reveal how each feature contributes to the accident severity.\n",
    "\n",
    "In the final step I will discuss the results and any potential improvements to the model.\n",
    "\n"
   ]
  },
  {
   "cell_type": "markdown",
   "metadata": {},
   "source": [
    "## Analysis <a name=\"analysis\"></a>"
   ]
  },
  {
   "cell_type": "markdown",
   "metadata": {},
   "source": [
    "There are two categories (Severitycodes 1 and 2) for the accident severity (labeled output of the model). So this is a classification problem. In this project, I will investigate **Logistic Regression, K-Nearest Neighbor and Support Vector Machines algorithms** for machine learning.   "
   ]
  },
  {
   "cell_type": "markdown",
   "metadata": {},
   "source": [
    "### Logistic Regression"
   ]
  },
  {
   "cell_type": "code",
   "execution_count": 176,
   "metadata": {},
   "outputs": [],
   "source": [
    "import pylab as pl\n",
    "import scipy.optimize as opt\n",
    "from sklearn.linear_model import LogisticRegression\n",
    "%matplotlib inline "
   ]
  },
  {
   "cell_type": "code",
   "execution_count": 258,
   "metadata": {},
   "outputs": [
    {
     "name": "stdout",
     "output_type": "stream",
     "text": [
      "Train set: (131428, 22) (131428,)\n",
      "Test set: (56327, 22) (56327,)\n"
     ]
    }
   ],
   "source": [
    "from sklearn.model_selection import train_test_split\n",
    "from sklearn.metrics import jaccard_similarity_score\n",
    "from sklearn.metrics import f1_score\n",
    "from sklearn.metrics import log_loss\n",
    "\n",
    "X_train, X_test, y_train, y_test = train_test_split( X, y, test_size=0.3, random_state=4)\n",
    "print ('Train set:', X_train.shape,  y_train.shape)\n",
    "print ('Test set:', X_test.shape,  y_test.shape)"
   ]
  },
  {
   "cell_type": "code",
   "execution_count": 259,
   "metadata": {},
   "outputs": [
    {
     "name": "stderr",
     "output_type": "stream",
     "text": [
      "C:\\Users\\yyhu\\anaconda3\\lib\\site-packages\\sklearn\\metrics\\_classification.py:664: FutureWarning: jaccard_similarity_score has been deprecated and replaced with jaccard_score. It will be removed in version 0.23. This implementation has surprising behavior for binary and multiclass classification tasks.\n",
      "  FutureWarning)\n",
      "C:\\Users\\yyhu\\anaconda3\\lib\\site-packages\\sklearn\\metrics\\_classification.py:664: FutureWarning: jaccard_similarity_score has been deprecated and replaced with jaccard_score. It will be removed in version 0.23. This implementation has surprising behavior for binary and multiclass classification tasks.\n",
      "  FutureWarning)\n",
      "C:\\Users\\yyhu\\anaconda3\\lib\\site-packages\\sklearn\\metrics\\_classification.py:664: FutureWarning: jaccard_similarity_score has been deprecated and replaced with jaccard_score. It will be removed in version 0.23. This implementation has surprising behavior for binary and multiclass classification tasks.\n",
      "  FutureWarning)\n",
      "C:\\Users\\yyhu\\anaconda3\\lib\\site-packages\\sklearn\\metrics\\_classification.py:664: FutureWarning: jaccard_similarity_score has been deprecated and replaced with jaccard_score. It will be removed in version 0.23. This implementation has surprising behavior for binary and multiclass classification tasks.\n",
      "  FutureWarning)\n"
     ]
    },
    {
     "name": "stdout",
     "output_type": "stream",
     "text": [
      "The best accuracy was with 0.754913274273439 with a C of  0.1\n",
      "Jaccard score is 0.754913274273439\n",
      "F1_score is 0.7153661775131377\n",
      "log loss is 0.48542678332384265\n"
     ]
    },
    {
     "name": "stderr",
     "output_type": "stream",
     "text": [
      "C:\\Users\\yyhu\\anaconda3\\lib\\site-packages\\sklearn\\metrics\\_classification.py:664: FutureWarning: jaccard_similarity_score has been deprecated and replaced with jaccard_score. It will be removed in version 0.23. This implementation has surprising behavior for binary and multiclass classification tasks.\n",
      "  FutureWarning)\n"
     ]
    }
   ],
   "source": [
    "k_type = [0.001, 0.01, 0.1, 1]\n",
    "mean_acc = np.zeros((4))\n",
    "for n in range(0,4):\n",
    "    \n",
    "    #Train Model and Predict  \n",
    "    LR = LogisticRegression(C=k_type[n], solver='liblinear').fit(X_train,y_train)\n",
    "    yhat=LR.predict(X_test)\n",
    "    mean_acc[n] = jaccard_similarity_score(y_test, yhat)\n",
    "\n",
    "mean_acc\n",
    "\n",
    "best_C = k_type[mean_acc.argmax()]\n",
    "print( \"The best accuracy was with\", mean_acc.max(), \"with a C of \", best_C)\n",
    "\n",
    "LR = LogisticRegression(C=best_C, solver='liblinear').fit(X_train,y_train)\n",
    "yhat=LR.predict(X_test)\n",
    "yhat_prob = LR.predict_proba(X_test)\n",
    "print(\"Jaccard score is\", jaccard_similarity_score(y_test, yhat))\n",
    "print(\"F1_score is\", f1_score(y_test, yhat, average='weighted')) \n",
    "print(\"log loss is\", log_loss(y_test, yhat_prob))"
   ]
  },
  {
   "cell_type": "markdown",
   "metadata": {},
   "source": [
    "### K-Nearest Neighbor (KNN)"
   ]
  },
  {
   "cell_type": "code",
   "execution_count": 201,
   "metadata": {},
   "outputs": [
    {
     "data": {
      "text/plain": [
       "array([0.67665596, 0.71725815, 0.7098372 , 0.73085732, 0.71519875,\n",
       "       0.73009392, 0.72324107, 0.73103485, 0.72228239])"
      ]
     },
     "execution_count": 201,
     "metadata": {},
     "output_type": "execute_result"
    }
   ],
   "source": [
    "from sklearn.neighbors import KNeighborsClassifier\n",
    "from sklearn import metrics\n",
    "Ks = 10\n",
    "mean_acc = np.zeros((Ks-1))\n",
    "std_acc = np.zeros((Ks-1))\n",
    "ConfustionMx = [];\n",
    "for n in range(1,Ks):\n",
    "    \n",
    "    #Train Model and Predict  \n",
    "    neigh = KNeighborsClassifier(n_neighbors = n).fit(X_train,y_train)\n",
    "    yhat=neigh.predict(X_test)\n",
    "    mean_acc[n-1] = metrics.accuracy_score(y_test, yhat)\n",
    "\n",
    "    \n",
    "    std_acc[n-1]=np.std(yhat==y_test)/np.sqrt(yhat.shape[0])\n",
    "\n",
    "mean_acc\n",
    "\n"
   ]
  },
  {
   "cell_type": "code",
   "execution_count": 202,
   "metadata": {},
   "outputs": [
    {
     "data": {
      "image/png": "[encoded data removed]",
      "text/plain": [
       "<Figure size 432x288 with 1 Axes>"
      ]
     },
     "metadata": {
      "needs_background": "light"
     },
     "output_type": "display_data"
    },
    {
     "name": "stdout",
     "output_type": "stream",
     "text": [
      "The best accuracy was with 0.7310348500719016 with k= 8\n"
     ]
    },
    {
     "data": {
      "text/plain": [
       "array([0, 0, 0, 0, 0], dtype=int64)"
      ]
     },
     "execution_count": 202,
     "metadata": {},
     "output_type": "execute_result"
    }
   ],
   "source": [
    "plt.plot(range(1,Ks),mean_acc,'g')\n",
    "plt.fill_between(range(1,Ks),mean_acc - 1 * std_acc,mean_acc + 1 * std_acc, alpha=0.10)\n",
    "plt.legend(('Accuracy ', '+/- 3xstd'))\n",
    "plt.ylabel('Accuracy ')\n",
    "plt.xlabel('Number of Nabors (K)')\n",
    "plt.tight_layout()\n",
    "plt.show()\n",
    "best_k = mean_acc.argmax()+1\n",
    "print( \"The best accuracy was with\", mean_acc.max(), \"with k=\", best_k) \n",
    "\n",
    "#Train Model and Predict with best k \n",
    "neigh = KNeighborsClassifier(n_neighbors = best_k).fit(X_train,y_train)\n",
    "yhat = neigh.predict(X_test)\n",
    "yhat[0:5]"
   ]
  },
  {
   "cell_type": "code",
   "execution_count": 204,
   "metadata": {},
   "outputs": [
    {
     "name": "stdout",
     "output_type": "stream",
     "text": [
      "Jaccard score is 0.7310348500719016\n",
      "F1_score is 0.705212634901096\n"
     ]
    }
   ],
   "source": [
    "print(\"Jaccard score is\", jaccard_similarity_score(y_test, yhat))\n",
    "print(\"F1_score is\", f1_score(y_test, yhat, average='weighted')) "
   ]
  },
  {
   "cell_type": "markdown",
   "metadata": {},
   "source": [
    "### Support Vector Machines (SVM)"
   ]
  },
  {
   "cell_type": "code",
   "execution_count": 205,
   "metadata": {},
   "outputs": [
    {
     "name": "stderr",
     "output_type": "stream",
     "text": [
      "C:\\Users\\yyhu\\anaconda3\\lib\\site-packages\\sklearn\\metrics\\_classification.py:664: FutureWarning: jaccard_similarity_score has been deprecated and replaced with jaccard_score. It will be removed in version 0.23. This implementation has surprising behavior for binary and multiclass classification tasks.\n",
      "  FutureWarning)\n",
      "C:\\Users\\yyhu\\anaconda3\\lib\\site-packages\\sklearn\\metrics\\_classification.py:664: FutureWarning: jaccard_similarity_score has been deprecated and replaced with jaccard_score. It will be removed in version 0.23. This implementation has surprising behavior for binary and multiclass classification tasks.\n",
      "  FutureWarning)\n",
      "C:\\Users\\yyhu\\anaconda3\\lib\\site-packages\\sklearn\\metrics\\_classification.py:664: FutureWarning: jaccard_similarity_score has been deprecated and replaced with jaccard_score. It will be removed in version 0.23. This implementation has surprising behavior for binary and multiclass classification tasks.\n",
      "  FutureWarning)\n",
      "C:\\Users\\yyhu\\anaconda3\\lib\\site-packages\\sklearn\\metrics\\_classification.py:664: FutureWarning: jaccard_similarity_score has been deprecated and replaced with jaccard_score. It will be removed in version 0.23. This implementation has surprising behavior for binary and multiclass classification tasks.\n",
      "  FutureWarning)\n"
     ]
    },
    {
     "data": {
      "text/plain": [
       "array([0.74779413, 0.74809594, 0.74827347, 0.64052763])"
      ]
     },
     "execution_count": 205,
     "metadata": {},
     "output_type": "execute_result"
    }
   ],
   "source": [
    "from sklearn import svm\n",
    "\n",
    "mean_acc = np.zeros(4)\n",
    "k_type = ['linear', 'poly', 'rbf', 'sigmoid']\n",
    "for n in range(0,4):\n",
    "    \n",
    "    #Train Model and Predict  \n",
    "    loanTree = svm.SVC(kernel=k_type[n]).fit(X_train,y_train)\n",
    "    yhat=loanTree.predict(X_test)\n",
    "    mean_acc[n] = jaccard_similarity_score(y_test, yhat)\n",
    "\n",
    "mean_acc\n"
   ]
  },
  {
   "cell_type": "code",
   "execution_count": 206,
   "metadata": {},
   "outputs": [
    {
     "name": "stdout",
     "output_type": "stream",
     "text": [
      "The best accuracy was with 0.7482734745326398 with method of  rbf\n",
      "Jaccard score is 0.7482734745326398\n",
      "F1_score is 0.687204738444629\n"
     ]
    },
    {
     "name": "stderr",
     "output_type": "stream",
     "text": [
      "C:\\Users\\yyhu\\anaconda3\\lib\\site-packages\\sklearn\\metrics\\_classification.py:664: FutureWarning: jaccard_similarity_score has been deprecated and replaced with jaccard_score. It will be removed in version 0.23. This implementation has surprising behavior for binary and multiclass classification tasks.\n",
      "  FutureWarning)\n"
     ]
    }
   ],
   "source": [
    "best_k = k_type[mean_acc.argmax()]\n",
    "print( \"The best accuracy was with\", mean_acc.max(), \"with method of \", best_k)\n",
    "\n",
    "clf = svm.SVC(kernel=best_k).fit(X_train, y_train) \n",
    "yhat = clf.predict(X_test)\n",
    "yhat [0:5]\n",
    "print(\"Jaccard score is\", jaccard_similarity_score(y_test, yhat))\n",
    "print(\"F1_score is\", f1_score(y_test, yhat, average='weighted')) "
   ]
  },
  {
   "cell_type": "markdown",
   "metadata": {},
   "source": [
    "### Model Performance"
   ]
  },
  {
   "cell_type": "markdown",
   "metadata": {},
   "source": [
    "Per jaccard index and f1-score for model accuracy, the logistic regression algorithm has the best overall accuracy (a jaccard index of 0.755 and a f1-score of 0.715). More importantly, training KNN and SVM models are much slower than the logistic regression model. So the **logistic regression model** is used for this project. Let us take a look at the confusion matrix of this model."
   ]
  },
  {
   "cell_type": "code",
   "execution_count": 207,
   "metadata": {},
   "outputs": [],
   "source": [
    "from sklearn.metrics import classification_report, confusion_matrix\n",
    "import itertools"
   ]
  },
  {
   "cell_type": "code",
   "execution_count": 208,
   "metadata": {},
   "outputs": [],
   "source": [
    "def plot_confusion_matrix(cm, classes,\n",
    "                          normalize=False,\n",
    "                          title='Confusion matrix',\n",
    "                          cmap=plt.cm.Blues):\n",
    "    \"\"\"\n",
    "    This function prints and plots the confusion matrix.\n",
    "    Normalization can be applied by setting `normalize=True`.\n",
    "    \"\"\"\n",
    "    if normalize:\n",
    "        cm = cm.astype('float') / cm.sum(axis=1)[:, np.newaxis]\n",
    "        print(\"Normalized confusion matrix\")\n",
    "    else:\n",
    "        print('Confusion matrix, without normalization')\n",
    "\n",
    "    print(cm)\n",
    "\n",
    "    plt.imshow(cm, interpolation='nearest', cmap=cmap)\n",
    "    plt.title(title)\n",
    "    plt.colorbar()\n",
    "    tick_marks = np.arange(len(classes))\n",
    "    plt.xticks(tick_marks, classes, rotation=45)\n",
    "    plt.yticks(tick_marks, classes)\n",
    "\n",
    "    fmt = '.2f' if normalize else 'd'\n",
    "    thresh = cm.max() / 2.\n",
    "    for i, j in itertools.product(range(cm.shape[0]), range(cm.shape[1])):\n",
    "        plt.text(j, i, format(cm[i, j], fmt),\n",
    "                 horizontalalignment=\"center\",\n",
    "                 color=\"white\" if cm[i, j] > thresh else \"black\")\n",
    "\n",
    "    plt.tight_layout()\n",
    "    plt.ylabel('True label')\n",
    "    plt.xlabel('Predicted label')"
   ]
  },
  {
   "cell_type": "code",
   "execution_count": 260,
   "metadata": {},
   "outputs": [
    {
     "name": "stdout",
     "output_type": "stream",
     "text": [
      "              precision    recall  f1-score   support\n",
      "\n",
      "           0       0.76      0.96      0.84     39286\n",
      "           1       0.74      0.29      0.42     17041\n",
      "\n",
      "    accuracy                           0.75     56327\n",
      "   macro avg       0.75      0.62      0.63     56327\n",
      "weighted avg       0.75      0.75      0.72     56327\n",
      "\n",
      "Confusion matrix, without normalization\n",
      "[[37588  1698]\n",
      " [12107  4934]]\n"
     ]
    },
    {
     "data": {
      "image/png": "[encoded data removed]",
      "text/plain": [
       "<Figure size 432x288 with 2 Axes>"
      ]
     },
     "metadata": {
      "needs_background": "light"
     },
     "output_type": "display_data"
    }
   ],
   "source": [
    "LR = LogisticRegression(C=best_C, solver='liblinear').fit(X_train,y_train)\n",
    "yhat=LR.predict(X_test)\n",
    "\n",
    "# Compute confusion matrix\n",
    "cnf_matrix = confusion_matrix(y_test, yhat)\n",
    "np.set_printoptions(precision=2)\n",
    "\n",
    "print (classification_report(y_test, yhat))\n",
    "\n",
    "# Plot non-normalized confusion matrix\n",
    "plt.figure()\n",
    "plot_confusion_matrix(cnf_matrix, classes=['Severity 1','Severity 2'],normalize= False,  title='Confusion matrix')"
   ]
  },
  {
   "cell_type": "markdown",
   "metadata": {},
   "source": [
    "As shown by the confusion matrix, the recall and f1-score for Severity 2 accident are too low, which is not helpful for avoiding injuries. One of the reasons could be unbalanced labels in the training sets (91547 Severity 1 vs. 39881 Severity 2). Let us try to improve it by balancing the labels."
   ]
  },
  {
   "cell_type": "code",
   "execution_count": 280,
   "metadata": {},
   "outputs": [
    {
     "name": "stderr",
     "output_type": "stream",
     "text": [
      "C:\\Users\\yyhu\\anaconda3\\lib\\site-packages\\ipykernel_launcher.py:3: SettingWithCopyWarning: \n",
      "A value is trying to be set on a copy of a slice from a DataFrame.\n",
      "Try using .loc[row_indexer,col_indexer] = value instead\n",
      "\n",
      "See the caveats in the documentation: https://pandas.pydata.org/pandas-docs/stable/user_guide/indexing.html#returning-a-view-versus-a-copy\n",
      "  This is separate from the ipykernel package so we can avoid doing imports until\n"
     ]
    }
   ],
   "source": [
    "X = Feature\n",
    "X_train, X_test, y_train, y_test = train_test_split( X, y, test_size=0.3, random_state=4)\n",
    "X_train['SEVERITYCODE'] = y_train"
   ]
  },
  {
   "cell_type": "code",
   "execution_count": 281,
   "metadata": {},
   "outputs": [
    {
     "data": {
      "text/plain": [
       "(79762, 23)"
      ]
     },
     "execution_count": 281,
     "metadata": {},
     "output_type": "execute_result"
    }
   ],
   "source": [
    "Xy_0 = X_train[X_train.SEVERITYCODE ==0].sample(39881)\n",
    "Xy_1 = X_train[X_train.SEVERITYCODE ==1]\n",
    "Xy = Xy_0.append(Xy_1)\n",
    "Xy.shape"
   ]
  },
  {
   "cell_type": "code",
   "execution_count": 282,
   "metadata": {},
   "outputs": [],
   "source": [
    "y1_train = Xy.loc[:,'SEVERITYCODE']\n",
    "Xy.drop(columns='SEVERITYCODE', inplace=True)\n",
    "X1_train = Xy"
   ]
  },
  {
   "cell_type": "code",
   "execution_count": 284,
   "metadata": {},
   "outputs": [
    {
     "name": "stdout",
     "output_type": "stream",
     "text": [
      "              precision    recall  f1-score   support\n",
      "\n",
      "           0       0.89      0.56      0.69     39286\n",
      "           1       0.45      0.84      0.59     17041\n",
      "\n",
      "    accuracy                           0.64     56327\n",
      "   macro avg       0.67      0.70      0.64     56327\n",
      "weighted avg       0.76      0.64      0.66     56327\n",
      "\n",
      "Confusion matrix, without normalization\n",
      "[[21914 17372]\n",
      " [ 2694 14347]]\n"
     ]
    },
    {
     "data": {
      "image/png": "[encoded data removed]",
      "text/plain": [
       "<Figure size 432x288 with 2 Axes>"
      ]
     },
     "metadata": {
      "needs_background": "light"
     },
     "output_type": "display_data"
    }
   ],
   "source": [
    "X1_train = preprocessing.StandardScaler().fit(X1_train).transform(X1_train)\n",
    "X_test = preprocessing.StandardScaler().fit(X_test).transform(X_test)\n",
    "LR = LogisticRegression(C=best_C, solver='liblinear').fit(X1_train,y1_train)\n",
    "yhat=LR.predict(X_test)\n",
    "\n",
    "# Compute confusion matrix\n",
    "cnf_matrix = confusion_matrix(y_test, yhat)\n",
    "np.set_printoptions(precision=2)\n",
    "\n",
    "print (classification_report(y_test, yhat))\n",
    "\n",
    "# Plot non-normalized confusion matrix\n",
    "plt.figure()\n",
    "plot_confusion_matrix(cnf_matrix, classes=['Severity 1','Severity 2'],normalize= False,  title='Confusion matrix')"
   ]
  },
  {
   "cell_type": "markdown",
   "metadata": {},
   "source": [
    "Apparently, the recall and f1-score of Severity 2 accidents have been greatly improved from 0.29 to 0.84 and 0.42 to 0.59, respectively. So balanced labels worked very well to improve the model."
   ]
  },
  {
   "cell_type": "code",
   "execution_count": null,
   "metadata": {},
   "outputs": [],
   "source": []
  },
  {
   "cell_type": "markdown",
   "metadata": {},
   "source": [
    "## Results and Discussion <a name=\"results\"></a>"
   ]
  },
  {
   "cell_type": "markdown",
   "metadata": {},
   "source": [
    "In this study, I analyzed the relationship between car accident severities and a couple of factors such as weather conditions, time of day, locations and so on. I built classification models to predict the car accident severities. Among three models, the logistic regression model is the fastest and most accurate one. This model can be very useful in helping car drivers and traffic control department in a number of ways. For example, it could help drivers decide if they should drive or not today based on weather conditions, number of passengers and time of day or when is the better time to drive.\n",
    "\n",
    "Weather and road conditions barely affected the labeled outputs because drivers were already aware of situations and drove more safely. But it doesn't mean people should ignore the bad weather and road conditions. It is well known that bad weather and road conditions can lead to more accidents if people ignore them. The traffic control department should still send out warnings and reminders when bad weather and road conditions exist. Most accidents including Severity 1 and Severity 2 happened in the afternoon when the traffic is usually heavy. Accidents due to speeding are more likely Severity 2. \n",
    "\n",
    "It is important to use balanced labels to train the model, otherwise, the recall of Severitiy 2 accidents will be too low and won't help drivers avoid injuries. "
   ]
  },
  {
   "cell_type": "markdown",
   "metadata": {},
   "source": [
    "## Conclusion <a name=\"conclusion\"></a>"
   ]
  },
  {
   "cell_type": "markdown",
   "metadata": {},
   "source": [
    "Purpose of this project was to predict car accident severities based on driving conditions including weather, road, time of day and so on. It is concluded that drivers should avoid speeding and driving in afternoon if possible to mitigate the risk of injuries. "
   ]
  },
  {
   "cell_type": "code",
   "execution_count": null,
   "metadata": {},
   "outputs": [],
   "source": []
  }
 ],
 "metadata": {
  "kernelspec": {
   "display_name": "Python 3",
   "language": "python",
   "name": "python3"
  },
  "language_info": {
   "codemirror_mode": {
    "name": "ipython",
    "version": 3
   },
   "file_extension": ".py",
   "mimetype": "text/x-python",
   "name": "python",
   "nbconvert_exporter": "python",
   "pygments_lexer": "ipython3",
   "version": "3.7.6"
  }
 },
 "nbformat": 4,
 "nbformat_minor": 4
}
